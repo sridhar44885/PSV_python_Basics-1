{
 "cells": [
  {
   "cell_type": "markdown",
   "id": "1c022d99",
   "metadata": {},
   "source": [
    "Data Type"
   ]
  },
  {
   "cell_type": "code",
   "execution_count": 2,
   "id": "8ded0161",
   "metadata": {},
   "outputs": [
    {
     "name": "stdout",
     "output_type": "stream",
     "text": [
      "34.0\n",
      "<class 'int'>\n",
      "<class 'float'>\n",
      "<class 'complex'>\n",
      "<class 'str'>\n"
     ]
    }
   ],
   "source": [
    "a=5\n",
    "b=6.8\n",
    "c=8+8j\n",
    "d='sri'\n",
    "print(a*b)\n",
    "print(type(a))\n",
    "print(type(b))\n",
    "print(type(c))\n",
    "print(type(d))"
   ]
  },
  {
   "cell_type": "markdown",
   "id": "1ae7c525",
   "metadata": {},
   "source": [
    "Arithmatic operator"
   ]
  },
  {
   "cell_type": "code",
   "execution_count": 4,
   "id": "263bd0cd",
   "metadata": {},
   "outputs": [
    {
     "name": "stdout",
     "output_type": "stream",
     "text": [
      "(15+7j)\n",
      "(3.2+7j)\n",
      "823543\n",
      "(1.1428571428571428+1j)\n",
      "(-1-7j)\n",
      "(0.49557522123893805-0.4336283185840708j)\n"
     ]
    }
   ],
   "source": [
    "a=7\n",
    "b=8+7j\n",
    "c=4.8\n",
    "d='sridhar'\n",
    "print(a+b)\n",
    "print(b-c)\n",
    "print(a**a)\n",
    "print(b/a)\n",
    "print(a-b)\n",
    "print(a/b)\n"
   ]
  },
  {
   "cell_type": "code",
   "execution_count": null,
   "id": "8c8b4f1d",
   "metadata": {},
   "outputs": [],
   "source": []
  },
  {
   "cell_type": "code",
   "execution_count": null,
   "id": "e1137464",
   "metadata": {},
   "outputs": [],
   "source": []
  }
 ],
 "metadata": {
  "kernelspec": {
   "display_name": "Python 3 (ipykernel)",
   "language": "python",
   "name": "python3"
  },
  "language_info": {
   "codemirror_mode": {
    "name": "ipython",
    "version": 3
   },
   "file_extension": ".py",
   "mimetype": "text/x-python",
   "name": "python",
   "nbconvert_exporter": "python",
   "pygments_lexer": "ipython3",
   "version": "3.11.4"
  }
 },
 "nbformat": 4,
 "nbformat_minor": 5
}
